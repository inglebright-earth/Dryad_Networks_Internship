{
 "cells": [
  {
   "cell_type": "code",
   "execution_count": null,
   "metadata": {},
   "outputs": [],
   "source": [
    "# Creating a SN2BG_summary for sensors (4n9292, 4n9295, 4n9482) to BG (bg3-2401-28) on a daily frequency. \n",
    "\n",
    "\n",
    "from WorkflowEngine import DataPipelineEngine\n",
    "data_pipeline = DataPipelineEngine()\n",
    "\n",
    "username='enter username'\n",
    "password='enter password'\n",
    "sn_list = ['4n9292', '4n9295', '4n9482']\n",
    "date_range = ['2024-09-06','2024-09-10']\n",
    "gtw_list = ['bg3-2401-28']\n",
    "gtw_type = 0\n",
    "freq = 'D'\n",
    "\n",
    "\n",
    "SN2BG, SN2BG_summary= data_pipeline.run_pipeline(username, password, sn_list, gtw_list, date_range,gtw_type,freq)\n",
    "\n",
    "SN2BG_summary.head()"
   ]
  },
  {
   "cell_type": "code",
   "execution_count": null,
   "metadata": {},
   "outputs": [],
   "source": [
    "# Creating a SN2BG_summary for sensors (sn503, sn174, n727) to BG (31251, 21908) on a weekly frequency.\n",
    "\n",
    "from WorkflowEngine import DataPipelineEngine\n",
    "data_pipeline = DataPipelineEngine()\n",
    "\n",
    "username='enter username'\n",
    "password='enter password'\n",
    "sn_list = ['n503-', 'n174-', 'n727-']\n",
    "date_range = ['2024-08-06','2024-09-10']\n",
    "gtw_list = [31251, 21908]\n",
    "gtw_type = 0\n",
    "freq = 'W'\n",
    "\n",
    "\n",
    "SN2BG, SN2BG_summary= data_pipeline.run_pipeline(username, password, sn_list, gtw_list, date_range,gtw_type,freq)\n",
    "\n",
    "SN2BG_summary.head()"
   ]
  },
  {
   "cell_type": "code",
   "execution_count": null,
   "metadata": {},
   "outputs": [],
   "source": [
    "# Creating a SN2MG dataframe for sensors (sn34, sn920, sn507, sn1049, sn130, sn1000) to MGs (30172, 2057) on a daily frequency.\n",
    "\n",
    "from WorkflowEngine import DataPipelineEngine\n",
    "data_pipeline = DataPipelineEngine()\n",
    "\n",
    "username='enter username'\n",
    "password='enter password'\n",
    "sn_list = ['n34-', 'n920-', 'n1093-','n507-', 'n1049-','n130-', 'n1000-']\n",
    "date_range = ['2024-09-06','2024-09-09']\n",
    "gtw_list = [30172, 2057]\n",
    "gtw_type = 1\n",
    "freq = 'D'\n",
    "\n",
    "\n",
    "SN2MG, SN2MG_summary= data_pipeline.run_pipeline(username, password, sn_list, gtw_list, date_range,gtw_type,freq)\n",
    "\n",
    "SN2MG_summary.head()"
   ]
  },
  {
   "cell_type": "code",
   "execution_count": null,
   "metadata": {},
   "outputs": [],
   "source": [
    "# Saving data to the local hard drive.\n",
    "\n",
    "from WorkflowEngine import DataPipelineEngine\n",
    "data_pipeline = DataPipelineEngine()\n",
    "\n",
    "username='enter username'\n",
    "password='enter password'\n",
    "sn_list = ['4n9292-', '4n9295-', '4n9482-']\n",
    "gtw_list = ['bg3-2401-28']\n",
    "date_range = ['2024-09-06','2024-09-10']\n",
    "gtw_type = 0\n",
    "freq = 'D'\n",
    "path = 'your_directory/data'\n",
    "\n",
    "\n",
    "SN2BG, SN2BG_summary = data_pipeline.run_pipeline(username, password, sn_list, gtw_list, date_range, gtw_type, freq, to_file = path)\n"
   ]
  }
 ],
 "metadata": {
  "kernelspec": {
   "display_name": "Python 3",
   "language": "python",
   "name": "python3"
  },
  "language_info": {
   "codemirror_mode": {
    "name": "ipython",
    "version": 3
   },
   "file_extension": ".py",
   "mimetype": "text/x-python",
   "name": "python",
   "nbconvert_exporter": "python",
   "pygments_lexer": "ipython3",
   "version": "3.12.4"
  }
 },
 "nbformat": 4,
 "nbformat_minor": 2
}
